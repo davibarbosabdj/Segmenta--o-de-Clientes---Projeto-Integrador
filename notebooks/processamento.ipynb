{
 "cells": [
  {
   "cell_type": "code",
   "execution_count": 1,
   "metadata": {},
   "outputs": [],
   "source": [
    "import pandas as pd\n",
    "import numpy as np"
   ]
  },
  {
   "cell_type": "code",
   "execution_count": 2,
   "metadata": {},
   "outputs": [],
   "source": [
    "#lendo as bases de dados  \n",
    "notas_ficais = pd.read_csv('../data/raw/201904 sales reciepts.csv')\n",
    "clientes = pd.read_csv('../data/raw/customer.csv')\n",
    "\n",
    "#fazendo uma cópia\n",
    "nf = notas_ficais.copy()\n",
    "cl = clientes.copy() "
   ]
  },
  {
   "cell_type": "code",
   "execution_count": 3,
   "metadata": {},
   "outputs": [
    {
     "name": "stdout",
     "output_type": "stream",
     "text": [
      "<class 'pandas.core.frame.DataFrame'>\n",
      "Int64Index: 24852 entries, 0 to 24851\n",
      "Data columns (total 22 columns):\n",
      " #   Column               Non-Null Count  Dtype  \n",
      "---  ------               --------------  -----  \n",
      " 0   customer_id          24852 non-null  int64  \n",
      " 1   home_store           24852 non-null  int64  \n",
      " 2   customer_first-name  24852 non-null  object \n",
      " 3   customer_email       24852 non-null  object \n",
      " 4   customer_since       24852 non-null  object \n",
      " 5   loyalty_card_number  24852 non-null  object \n",
      " 6   birthdate            24852 non-null  object \n",
      " 7   gender               24852 non-null  object \n",
      " 8   birth_year           24852 non-null  int64  \n",
      " 9   transaction_id       24852 non-null  int64  \n",
      " 10  transaction_date     24852 non-null  object \n",
      " 11  transaction_time     24852 non-null  object \n",
      " 12  sales_outlet_id      24852 non-null  int64  \n",
      " 13  staff_id             24852 non-null  int64  \n",
      " 14  instore_yn           24852 non-null  object \n",
      " 15  order                24852 non-null  int64  \n",
      " 16  line_item_id         24852 non-null  int64  \n",
      " 17  product_id           24852 non-null  int64  \n",
      " 18  quantity             24852 non-null  int64  \n",
      " 19  line_item_amount     24852 non-null  float64\n",
      " 20  unit_price           24852 non-null  float64\n",
      " 21  promo_item_yn        24852 non-null  object \n",
      "dtypes: float64(2), int64(10), object(10)\n",
      "memory usage: 4.4+ MB\n"
     ]
    }
   ],
   "source": [
    "#Junção de tabelas de notas fiscais e clientes \n",
    "total = cl.merge(nf, how='inner', on='customer_id')\n",
    "total.info()"
   ]
  },
  {
   "cell_type": "code",
   "execution_count": 4,
   "metadata": {},
   "outputs": [],
   "source": [
    "total.drop(columns = [\n",
    "           i for i in total.columns if i not in ['customer_id', 'home_store', 'customer_first-name', 'gender', 'birth_year', 'product_id', 'quantity', 'promo_item_yn']],\n",
    "           inplace= True)"
   ]
  },
  {
   "cell_type": "code",
   "execution_count": 5,
   "metadata": {},
   "outputs": [
    {
     "name": "stdout",
     "output_type": "stream",
     "text": [
      "<class 'pandas.core.frame.DataFrame'>\n",
      "Int64Index: 24852 entries, 0 to 24851\n",
      "Data columns (total 8 columns):\n",
      " #   Column               Non-Null Count  Dtype \n",
      "---  ------               --------------  ----- \n",
      " 0   customer_id          24852 non-null  int64 \n",
      " 1   home_store           24852 non-null  int64 \n",
      " 2   customer_first-name  24852 non-null  object\n",
      " 3   gender               24852 non-null  object\n",
      " 4   birth_year           24852 non-null  int64 \n",
      " 5   product_id           24852 non-null  int64 \n",
      " 6   quantity             24852 non-null  int64 \n",
      " 7   promo_item_yn        24852 non-null  object\n",
      "dtypes: int64(5), object(3)\n",
      "memory usage: 1.7+ MB\n"
     ]
    }
   ],
   "source": [
    "total.info()"
   ]
  },
  {
   "cell_type": "code",
   "execution_count": 6,
   "metadata": {},
   "outputs": [
    {
     "data": {
      "text/html": [
       "<div>\n",
       "<style scoped>\n",
       "    .dataframe tbody tr th:only-of-type {\n",
       "        vertical-align: middle;\n",
       "    }\n",
       "\n",
       "    .dataframe tbody tr th {\n",
       "        vertical-align: top;\n",
       "    }\n",
       "\n",
       "    .dataframe thead th {\n",
       "        text-align: right;\n",
       "    }\n",
       "</style>\n",
       "<table border=\"1\" class=\"dataframe\">\n",
       "  <thead>\n",
       "    <tr style=\"text-align: right;\">\n",
       "      <th></th>\n",
       "      <th></th>\n",
       "      <th>quantity</th>\n",
       "    </tr>\n",
       "    <tr>\n",
       "      <th>customer_id</th>\n",
       "      <th>product_id</th>\n",
       "      <th></th>\n",
       "    </tr>\n",
       "  </thead>\n",
       "  <tbody>\n",
       "    <tr>\n",
       "      <th rowspan=\"5\" valign=\"top\">1</th>\n",
       "      <th>23</th>\n",
       "      <td>1</td>\n",
       "    </tr>\n",
       "    <tr>\n",
       "      <th>28</th>\n",
       "      <td>4</td>\n",
       "    </tr>\n",
       "    <tr>\n",
       "      <th>32</th>\n",
       "      <td>1</td>\n",
       "    </tr>\n",
       "    <tr>\n",
       "      <th>37</th>\n",
       "      <td>1</td>\n",
       "    </tr>\n",
       "    <tr>\n",
       "      <th>57</th>\n",
       "      <td>2</td>\n",
       "    </tr>\n",
       "    <tr>\n",
       "      <th>...</th>\n",
       "      <th>...</th>\n",
       "      <td>...</td>\n",
       "    </tr>\n",
       "    <tr>\n",
       "      <th rowspan=\"5\" valign=\"top\">8501</th>\n",
       "      <th>43</th>\n",
       "      <td>2</td>\n",
       "    </tr>\n",
       "    <tr>\n",
       "      <th>45</th>\n",
       "      <td>3</td>\n",
       "    </tr>\n",
       "    <tr>\n",
       "      <th>47</th>\n",
       "      <td>2</td>\n",
       "    </tr>\n",
       "    <tr>\n",
       "      <th>51</th>\n",
       "      <td>1</td>\n",
       "    </tr>\n",
       "    <tr>\n",
       "      <th>61</th>\n",
       "      <td>1</td>\n",
       "    </tr>\n",
       "  </tbody>\n",
       "</table>\n",
       "<p>21938 rows × 1 columns</p>\n",
       "</div>"
      ],
      "text/plain": [
       "                        quantity\n",
       "customer_id product_id          \n",
       "1           23                 1\n",
       "            28                 4\n",
       "            32                 1\n",
       "            37                 1\n",
       "            57                 2\n",
       "...                          ...\n",
       "8501        43                 2\n",
       "            45                 3\n",
       "            47                 2\n",
       "            51                 1\n",
       "            61                 1\n",
       "\n",
       "[21938 rows x 1 columns]"
      ]
     },
     "execution_count": 6,
     "metadata": {},
     "output_type": "execute_result"
    }
   ],
   "source": [
    "#Separando as colunas de interesse  \n",
    "total_pedidos = total[['customer_id', 'quantity', 'product_id']] \n",
    "#Filtrando o produto e a quantidade de acordo com cada cliente  \n",
    "pedidos_pcliente = total_pedidos.groupby(by=['customer_id', 'product_id']).sum()\n",
    "pedidos_pcliente"
   ]
  },
  {
   "cell_type": "code",
   "execution_count": 7,
   "metadata": {},
   "outputs": [],
   "source": [
    "#Tambem filtrar a base de dados de produtos para ver a categoria de produto, tipo de produto que mais é vendida \n"
   ]
  }
 ],
 "metadata": {
  "kernelspec": {
   "display_name": "base",
   "language": "python",
   "name": "python3"
  },
  "language_info": {
   "codemirror_mode": {
    "name": "ipython",
    "version": 3
   },
   "file_extension": ".py",
   "mimetype": "text/x-python",
   "name": "python",
   "nbconvert_exporter": "python",
   "pygments_lexer": "ipython3",
   "version": "3.10.9"
  },
  "orig_nbformat": 4
 },
 "nbformat": 4,
 "nbformat_minor": 2
}
