{
 "cells": [
  {
   "attachments": {},
   "cell_type": "markdown",
   "metadata": {},
   "source": [
    "### Análise Explorátoria inicial dos Dados  \n",
    "\n",
    ">  Quais bases são mais interessantes para se usar no projeto? <br>\n",
    "\n",
    "> Quais as variáveis mais interessantes a serem análisadas? <br>\n",
    "\n",
    "> Qual a tipagem dos dados? <br>\n",
    "\n",
    "> Qual a distribuição dessas variáveis? <br>"
   ]
  },
  {
   "cell_type": "code",
   "execution_count": 1,
   "metadata": {},
   "outputs": [],
   "source": [
    "#Importando as bibliotecas \n",
    "import pandas as pd\n",
    "import numpy as np"
   ]
  },
  {
   "cell_type": "code",
   "execution_count": 2,
   "metadata": {},
   "outputs": [],
   "source": [
    "#lendo as bases de dados  \n",
    "notas_ficais = pd.read_csv('../data/raw/201904 sales reciepts.csv')\n",
    "clientes = pd.read_csv('../data/raw/customer.csv')\n",
    "\n",
    "#Fazendo uma cópia para a segurança \n",
    "nf = notas_ficais.copy()\n",
    "cl = clientes.copy()"
   ]
  },
  {
   "cell_type": "code",
   "execution_count": 3,
   "metadata": {},
   "outputs": [
    {
     "data": {
      "text/html": [
       "<div>\n",
       "<style scoped>\n",
       "    .dataframe tbody tr th:only-of-type {\n",
       "        vertical-align: middle;\n",
       "    }\n",
       "\n",
       "    .dataframe tbody tr th {\n",
       "        vertical-align: top;\n",
       "    }\n",
       "\n",
       "    .dataframe thead th {\n",
       "        text-align: right;\n",
       "    }\n",
       "</style>\n",
       "<table border=\"1\" class=\"dataframe\">\n",
       "  <thead>\n",
       "    <tr style=\"text-align: right;\">\n",
       "      <th></th>\n",
       "      <th>transaction_id</th>\n",
       "      <th>transaction_date</th>\n",
       "      <th>transaction_time</th>\n",
       "      <th>sales_outlet_id</th>\n",
       "      <th>staff_id</th>\n",
       "      <th>customer_id</th>\n",
       "      <th>instore_yn</th>\n",
       "      <th>order</th>\n",
       "      <th>line_item_id</th>\n",
       "      <th>product_id</th>\n",
       "      <th>quantity</th>\n",
       "      <th>line_item_amount</th>\n",
       "      <th>unit_price</th>\n",
       "      <th>promo_item_yn</th>\n",
       "    </tr>\n",
       "  </thead>\n",
       "  <tbody>\n",
       "    <tr>\n",
       "      <th>0</th>\n",
       "      <td>7</td>\n",
       "      <td>2019-04-01</td>\n",
       "      <td>12:04:43</td>\n",
       "      <td>3</td>\n",
       "      <td>12</td>\n",
       "      <td>558</td>\n",
       "      <td>N</td>\n",
       "      <td>1</td>\n",
       "      <td>1</td>\n",
       "      <td>52</td>\n",
       "      <td>1</td>\n",
       "      <td>2.50</td>\n",
       "      <td>2.50</td>\n",
       "      <td>N</td>\n",
       "    </tr>\n",
       "    <tr>\n",
       "      <th>1</th>\n",
       "      <td>11</td>\n",
       "      <td>2019-04-01</td>\n",
       "      <td>15:54:39</td>\n",
       "      <td>3</td>\n",
       "      <td>17</td>\n",
       "      <td>781</td>\n",
       "      <td>N</td>\n",
       "      <td>1</td>\n",
       "      <td>1</td>\n",
       "      <td>27</td>\n",
       "      <td>2</td>\n",
       "      <td>7.00</td>\n",
       "      <td>3.50</td>\n",
       "      <td>N</td>\n",
       "    </tr>\n",
       "    <tr>\n",
       "      <th>2</th>\n",
       "      <td>19</td>\n",
       "      <td>2019-04-01</td>\n",
       "      <td>14:34:59</td>\n",
       "      <td>3</td>\n",
       "      <td>17</td>\n",
       "      <td>788</td>\n",
       "      <td>Y</td>\n",
       "      <td>1</td>\n",
       "      <td>1</td>\n",
       "      <td>46</td>\n",
       "      <td>2</td>\n",
       "      <td>5.00</td>\n",
       "      <td>2.50</td>\n",
       "      <td>N</td>\n",
       "    </tr>\n",
       "    <tr>\n",
       "      <th>3</th>\n",
       "      <td>32</td>\n",
       "      <td>2019-04-01</td>\n",
       "      <td>16:06:04</td>\n",
       "      <td>3</td>\n",
       "      <td>12</td>\n",
       "      <td>683</td>\n",
       "      <td>N</td>\n",
       "      <td>1</td>\n",
       "      <td>1</td>\n",
       "      <td>23</td>\n",
       "      <td>2</td>\n",
       "      <td>5.00</td>\n",
       "      <td>2.50</td>\n",
       "      <td>N</td>\n",
       "    </tr>\n",
       "    <tr>\n",
       "      <th>4</th>\n",
       "      <td>33</td>\n",
       "      <td>2019-04-01</td>\n",
       "      <td>19:18:37</td>\n",
       "      <td>3</td>\n",
       "      <td>17</td>\n",
       "      <td>99</td>\n",
       "      <td>Y</td>\n",
       "      <td>1</td>\n",
       "      <td>1</td>\n",
       "      <td>34</td>\n",
       "      <td>1</td>\n",
       "      <td>2.45</td>\n",
       "      <td>2.45</td>\n",
       "      <td>N</td>\n",
       "    </tr>\n",
       "  </tbody>\n",
       "</table>\n",
       "</div>"
      ],
      "text/plain": [
       "   transaction_id transaction_date transaction_time  sales_outlet_id  \\\n",
       "0               7       2019-04-01         12:04:43                3   \n",
       "1              11       2019-04-01         15:54:39                3   \n",
       "2              19       2019-04-01         14:34:59                3   \n",
       "3              32       2019-04-01         16:06:04                3   \n",
       "4              33       2019-04-01         19:18:37                3   \n",
       "\n",
       "   staff_id  customer_id instore_yn  order  line_item_id  product_id  \\\n",
       "0        12          558          N      1             1          52   \n",
       "1        17          781          N      1             1          27   \n",
       "2        17          788          Y      1             1          46   \n",
       "3        12          683          N      1             1          23   \n",
       "4        17           99          Y      1             1          34   \n",
       "\n",
       "   quantity  line_item_amount  unit_price promo_item_yn  \n",
       "0         1              2.50        2.50             N  \n",
       "1         2              7.00        3.50             N  \n",
       "2         2              5.00        2.50             N  \n",
       "3         2              5.00        2.50             N  \n",
       "4         1              2.45        2.45             N  "
      ]
     },
     "execution_count": 3,
     "metadata": {},
     "output_type": "execute_result"
    }
   ],
   "source": [
    "#Visualizando a tabela de notas fiscais \n",
    "nf.head()"
   ]
  },
  {
   "cell_type": "code",
   "execution_count": 4,
   "metadata": {},
   "outputs": [
    {
     "name": "stdout",
     "output_type": "stream",
     "text": [
      "<class 'pandas.core.frame.DataFrame'>\n",
      "RangeIndex: 49894 entries, 0 to 49893\n",
      "Data columns (total 14 columns):\n",
      " #   Column            Non-Null Count  Dtype  \n",
      "---  ------            --------------  -----  \n",
      " 0   transaction_id    49894 non-null  int64  \n",
      " 1   transaction_date  49894 non-null  object \n",
      " 2   transaction_time  49894 non-null  object \n",
      " 3   sales_outlet_id   49894 non-null  int64  \n",
      " 4   staff_id          49894 non-null  int64  \n",
      " 5   customer_id       49894 non-null  int64  \n",
      " 6   instore_yn        49894 non-null  object \n",
      " 7   order             49894 non-null  int64  \n",
      " 8   line_item_id      49894 non-null  int64  \n",
      " 9   product_id        49894 non-null  int64  \n",
      " 10  quantity          49894 non-null  int64  \n",
      " 11  line_item_amount  49894 non-null  float64\n",
      " 12  unit_price        49894 non-null  float64\n",
      " 13  promo_item_yn     49894 non-null  object \n",
      "dtypes: float64(2), int64(8), object(4)\n",
      "memory usage: 5.3+ MB\n"
     ]
    }
   ],
   "source": [
    "#Verificando as informações gerais da tabela de notas fiscais \n",
    "nf.info()"
   ]
  },
  {
   "cell_type": "code",
   "execution_count": 5,
   "metadata": {},
   "outputs": [],
   "source": [
    "#Renomeando as colunas \n",
    "nf = nf.rename(columns={'transaction_id':'id_transacao', \n",
    "                        'transaction_date':'data_transacao', \n",
    "                        'transaction_time':'hora_transacao',\n",
    "                        'sales_outlet_id':'id_loja', \n",
    "                        'staff_id':'id_funcionario', \n",
    "                        'customer_id':'id_cliente', \n",
    "                        'product_id':'id_produto', \n",
    "                        'quantity':'quantidade', \n",
    "                        'line_item_amount':'preco_total',\n",
    "                        'unit_price':'preco_unitario', \n",
    "                        'promo_item_yn':'item_promocional'})"
   ]
  },
  {
   "cell_type": "code",
   "execution_count": 6,
   "metadata": {},
   "outputs": [],
   "source": [
    "#Juntando as colunas data_transacao e hora_transacao para completar a informação do datetime em uma só coluna \n",
    "nf['data_hora_transacao'] = nf.apply(lambda x: pd.to_datetime(x['data_transacao'] + ' ' + x['hora_transacao'], format='%Y-%m-%d %H:%M:%S'), axis=1)"
   ]
  },
  {
   "cell_type": "code",
   "execution_count": 7,
   "metadata": {},
   "outputs": [],
   "source": [
    "#Removendo as colunas \"data\" e \"hora\" originais\n",
    "nf = nf.drop(['data_transacao', 'hora_transacao'], axis=1)\n",
    "\n",
    "#Trocando a posição das colunas \n",
    "nf = nf.reindex(columns=['id_transacao', 'data_hora_transacao','id_loja', 'id_funcionario', 'id_cliente', 'instore_yn',\n",
    "       'order', 'line_item_id', 'id_produto', 'quantidade', 'preco_total',\n",
    "       'preco_unitario', 'item_promocional'])"
   ]
  },
  {
   "cell_type": "code",
   "execution_count": 8,
   "metadata": {},
   "outputs": [
    {
     "data": {
      "text/plain": [
       "0       2019-04-01 12:04:43\n",
       "1       2019-04-01 15:54:39\n",
       "2       2019-04-01 14:34:59\n",
       "3       2019-04-01 16:06:04\n",
       "4       2019-04-01 19:18:37\n",
       "                ...        \n",
       "49889   2019-04-29 16:51:58\n",
       "49890   2019-04-29 16:51:14\n",
       "49891   2019-04-29 11:17:36\n",
       "49892   2019-04-29 15:45:52\n",
       "49893   2019-04-29 15:45:52\n",
       "Name: data_hora_transacao, Length: 49894, dtype: datetime64[ns]"
      ]
     },
     "execution_count": 8,
     "metadata": {},
     "output_type": "execute_result"
    }
   ],
   "source": [
    "#Verificando o periodo de datas\n",
    "nf['data_hora_transacao']"
   ]
  },
  {
   "cell_type": "code",
   "execution_count": 17,
   "metadata": {},
   "outputs": [
    {
     "data": {
      "text/plain": [
       "False    49894\n",
       "dtype: int64"
      ]
     },
     "execution_count": 17,
     "metadata": {},
     "output_type": "execute_result"
    }
   ],
   "source": [
    "#Verificando se temos dados duplicados na tabela de nf\n",
    "nf.duplicated().value_counts()\n"
   ]
  },
  {
   "cell_type": "code",
   "execution_count": 19,
   "metadata": {},
   "outputs": [
    {
     "data": {
      "text/plain": [
       "(2248,)"
      ]
     },
     "execution_count": 19,
     "metadata": {},
     "output_type": "execute_result"
    }
   ],
   "source": [
    "#Verificando o número exclusivo(unico) de clientes que fizeram pedidos \n",
    "nf.id_cliente.unique().shape"
   ]
  },
  {
   "cell_type": "code",
   "execution_count": 20,
   "metadata": {},
   "outputs": [
    {
     "data": {
      "text/plain": [
       "47646"
      ]
     },
     "execution_count": 20,
     "metadata": {},
     "output_type": "execute_result"
    }
   ],
   "source": [
    "#Verificação de clientes que fizeram mais de um pedido \n",
    "49894 - nf.id_cliente.unique().shape[0]"
   ]
  },
  {
   "cell_type": "code",
   "execution_count": 21,
   "metadata": {},
   "outputs": [
    {
     "data": {
      "text/plain": [
       "8    17071\n",
       "3    16829\n",
       "5    15994\n",
       "Name: id_loja, dtype: int64"
      ]
     },
     "execution_count": 21,
     "metadata": {},
     "output_type": "execute_result"
    }
   ],
   "source": [
    "#Número de pedidos por loja \n",
    "nf.id_loja.value_counts()"
   ]
  },
  {
   "cell_type": "code",
   "execution_count": 32,
   "metadata": {},
   "outputs": [
    {
     "data": {
      "text/html": [
       "<div>\n",
       "<style scoped>\n",
       "    .dataframe tbody tr th:only-of-type {\n",
       "        vertical-align: middle;\n",
       "    }\n",
       "\n",
       "    .dataframe tbody tr th {\n",
       "        vertical-align: top;\n",
       "    }\n",
       "\n",
       "    .dataframe thead th {\n",
       "        text-align: right;\n",
       "    }\n",
       "</style>\n",
       "<table border=\"1\" class=\"dataframe\">\n",
       "  <thead>\n",
       "    <tr style=\"text-align: right;\">\n",
       "      <th></th>\n",
       "      <th>id_transacao</th>\n",
       "      <th>id_loja</th>\n",
       "      <th>id_funcionario</th>\n",
       "      <th>id_cliente</th>\n",
       "      <th>order</th>\n",
       "      <th>line_item_id</th>\n",
       "      <th>id_produto</th>\n",
       "      <th>quantidade</th>\n",
       "      <th>preco_total</th>\n",
       "      <th>preco_unitario</th>\n",
       "    </tr>\n",
       "  </thead>\n",
       "  <tbody>\n",
       "    <tr>\n",
       "      <th>count</th>\n",
       "      <td>49894.000000</td>\n",
       "      <td>49894.000000</td>\n",
       "      <td>49894.000000</td>\n",
       "      <td>49894.000000</td>\n",
       "      <td>49894.000000</td>\n",
       "      <td>49894.000000</td>\n",
       "      <td>49894.000000</td>\n",
       "      <td>49894.000000</td>\n",
       "      <td>49894.000000</td>\n",
       "      <td>49894.000000</td>\n",
       "    </tr>\n",
       "    <tr>\n",
       "      <th>mean</th>\n",
       "      <td>869.056059</td>\n",
       "      <td>5.351846</td>\n",
       "      <td>25.359582</td>\n",
       "      <td>2282.324468</td>\n",
       "      <td>1.173428</td>\n",
       "      <td>1.631860</td>\n",
       "      <td>47.878983</td>\n",
       "      <td>1.438209</td>\n",
       "      <td>4.682646</td>\n",
       "      <td>3.384645</td>\n",
       "    </tr>\n",
       "    <tr>\n",
       "      <th>std</th>\n",
       "      <td>857.863149</td>\n",
       "      <td>2.074796</td>\n",
       "      <td>12.466490</td>\n",
       "      <td>3240.551757</td>\n",
       "      <td>1.025445</td>\n",
       "      <td>1.412881</td>\n",
       "      <td>17.928355</td>\n",
       "      <td>0.543039</td>\n",
       "      <td>4.436668</td>\n",
       "      <td>2.682545</td>\n",
       "    </tr>\n",
       "    <tr>\n",
       "      <th>min</th>\n",
       "      <td>1.000000</td>\n",
       "      <td>3.000000</td>\n",
       "      <td>6.000000</td>\n",
       "      <td>0.000000</td>\n",
       "      <td>1.000000</td>\n",
       "      <td>1.000000</td>\n",
       "      <td>1.000000</td>\n",
       "      <td>1.000000</td>\n",
       "      <td>0.000000</td>\n",
       "      <td>0.800000</td>\n",
       "    </tr>\n",
       "    <tr>\n",
       "      <th>25%</th>\n",
       "      <td>223.000000</td>\n",
       "      <td>3.000000</td>\n",
       "      <td>15.000000</td>\n",
       "      <td>0.000000</td>\n",
       "      <td>1.000000</td>\n",
       "      <td>1.000000</td>\n",
       "      <td>33.000000</td>\n",
       "      <td>1.000000</td>\n",
       "      <td>3.000000</td>\n",
       "      <td>2.500000</td>\n",
       "    </tr>\n",
       "    <tr>\n",
       "      <th>50%</th>\n",
       "      <td>481.000000</td>\n",
       "      <td>5.000000</td>\n",
       "      <td>26.000000</td>\n",
       "      <td>0.000000</td>\n",
       "      <td>1.000000</td>\n",
       "      <td>1.000000</td>\n",
       "      <td>47.000000</td>\n",
       "      <td>1.000000</td>\n",
       "      <td>3.750000</td>\n",
       "      <td>3.000000</td>\n",
       "    </tr>\n",
       "    <tr>\n",
       "      <th>75%</th>\n",
       "      <td>1401.000000</td>\n",
       "      <td>8.000000</td>\n",
       "      <td>41.000000</td>\n",
       "      <td>5412.000000</td>\n",
       "      <td>1.000000</td>\n",
       "      <td>1.000000</td>\n",
       "      <td>60.000000</td>\n",
       "      <td>2.000000</td>\n",
       "      <td>6.000000</td>\n",
       "      <td>3.750000</td>\n",
       "    </tr>\n",
       "    <tr>\n",
       "      <th>max</th>\n",
       "      <td>4203.000000</td>\n",
       "      <td>8.000000</td>\n",
       "      <td>45.000000</td>\n",
       "      <td>8501.000000</td>\n",
       "      <td>9.000000</td>\n",
       "      <td>12.000000</td>\n",
       "      <td>87.000000</td>\n",
       "      <td>8.000000</td>\n",
       "      <td>360.000000</td>\n",
       "      <td>45.000000</td>\n",
       "    </tr>\n",
       "  </tbody>\n",
       "</table>\n",
       "</div>"
      ],
      "text/plain": [
       "       id_transacao       id_loja  id_funcionario    id_cliente         order  \\\n",
       "count  49894.000000  49894.000000    49894.000000  49894.000000  49894.000000   \n",
       "mean     869.056059      5.351846       25.359582   2282.324468      1.173428   \n",
       "std      857.863149      2.074796       12.466490   3240.551757      1.025445   \n",
       "min        1.000000      3.000000        6.000000      0.000000      1.000000   \n",
       "25%      223.000000      3.000000       15.000000      0.000000      1.000000   \n",
       "50%      481.000000      5.000000       26.000000      0.000000      1.000000   \n",
       "75%     1401.000000      8.000000       41.000000   5412.000000      1.000000   \n",
       "max     4203.000000      8.000000       45.000000   8501.000000      9.000000   \n",
       "\n",
       "       line_item_id    id_produto    quantidade   preco_total  preco_unitario  \n",
       "count  49894.000000  49894.000000  49894.000000  49894.000000    49894.000000  \n",
       "mean       1.631860     47.878983      1.438209      4.682646        3.384645  \n",
       "std        1.412881     17.928355      0.543039      4.436668        2.682545  \n",
       "min        1.000000      1.000000      1.000000      0.000000        0.800000  \n",
       "25%        1.000000     33.000000      1.000000      3.000000        2.500000  \n",
       "50%        1.000000     47.000000      1.000000      3.750000        3.000000  \n",
       "75%        1.000000     60.000000      2.000000      6.000000        3.750000  \n",
       "max       12.000000     87.000000      8.000000    360.000000       45.000000  "
      ]
     },
     "execution_count": 32,
     "metadata": {},
     "output_type": "execute_result"
    }
   ],
   "source": [
    "#Describe de var númericas \n",
    "nf.describe()"
   ]
  },
  {
   "cell_type": "code",
   "execution_count": 28,
   "metadata": {},
   "outputs": [
    {
     "data": {
      "text/plain": [
       "1    48387\n",
       "7      916\n",
       "9      253\n",
       "6      132\n",
       "2       83\n",
       "5       61\n",
       "3       56\n",
       "8        4\n",
       "4        2\n",
       "Name: order, dtype: int64"
      ]
     },
     "execution_count": 28,
     "metadata": {},
     "output_type": "execute_result"
    }
   ],
   "source": [
    "nf.order.value_counts()"
   ]
  },
  {
   "cell_type": "code",
   "execution_count": 31,
   "metadata": {},
   "outputs": [
    {
     "data": {
      "text/plain": [
       "1     39949\n",
       "5      6332\n",
       "2      2547\n",
       "3       503\n",
       "6       324\n",
       "4       177\n",
       "9        55\n",
       "8         4\n",
       "12        1\n",
       "10        1\n",
       "7         1\n",
       "Name: line_item_id, dtype: int64"
      ]
     },
     "execution_count": 31,
     "metadata": {},
     "output_type": "execute_result"
    }
   ],
   "source": [
    "nf.line_item_id.value_counts()"
   ]
  },
  {
   "cell_type": "code",
   "execution_count": 29,
   "metadata": {},
   "outputs": [
    {
     "data": {
      "text/plain": [
       "71    1034\n",
       "50    1015\n",
       "59    1000\n",
       "61     995\n",
       "38     993\n",
       "      ... \n",
       "14      48\n",
       "4       47\n",
       "12      45\n",
       "18      42\n",
       "19      36\n",
       "Name: id_produto, Length: 80, dtype: int64"
      ]
     },
     "execution_count": 29,
     "metadata": {},
     "output_type": "execute_result"
    }
   ],
   "source": [
    "#Contagem de quantos pedidos por produto\n",
    "nf.id_produto.value_counts()"
   ]
  },
  {
   "cell_type": "code",
   "execution_count": 10,
   "metadata": {},
   "outputs": [
    {
     "data": {
      "text/html": [
       "<div>\n",
       "<style scoped>\n",
       "    .dataframe tbody tr th:only-of-type {\n",
       "        vertical-align: middle;\n",
       "    }\n",
       "\n",
       "    .dataframe tbody tr th {\n",
       "        vertical-align: top;\n",
       "    }\n",
       "\n",
       "    .dataframe thead th {\n",
       "        text-align: right;\n",
       "    }\n",
       "</style>\n",
       "<table border=\"1\" class=\"dataframe\">\n",
       "  <thead>\n",
       "    <tr style=\"text-align: right;\">\n",
       "      <th></th>\n",
       "      <th>customer_id</th>\n",
       "      <th>home_store</th>\n",
       "      <th>customer_first-name</th>\n",
       "      <th>customer_email</th>\n",
       "      <th>customer_since</th>\n",
       "      <th>loyalty_card_number</th>\n",
       "      <th>birthdate</th>\n",
       "      <th>gender</th>\n",
       "      <th>birth_year</th>\n",
       "    </tr>\n",
       "  </thead>\n",
       "  <tbody>\n",
       "    <tr>\n",
       "      <th>0</th>\n",
       "      <td>1</td>\n",
       "      <td>3</td>\n",
       "      <td>Kelly Key</td>\n",
       "      <td>Venus@adipiscing.edu</td>\n",
       "      <td>2017-01-04</td>\n",
       "      <td>908-424-2890</td>\n",
       "      <td>1950-05-29</td>\n",
       "      <td>M</td>\n",
       "      <td>1950</td>\n",
       "    </tr>\n",
       "    <tr>\n",
       "      <th>1</th>\n",
       "      <td>2</td>\n",
       "      <td>3</td>\n",
       "      <td>Clark Schroeder</td>\n",
       "      <td>Nora@fames.gov</td>\n",
       "      <td>2017-01-07</td>\n",
       "      <td>032-732-6308</td>\n",
       "      <td>1950-07-30</td>\n",
       "      <td>M</td>\n",
       "      <td>1950</td>\n",
       "    </tr>\n",
       "    <tr>\n",
       "      <th>2</th>\n",
       "      <td>3</td>\n",
       "      <td>3</td>\n",
       "      <td>Elvis Cardenas</td>\n",
       "      <td>Brianna@tellus.edu</td>\n",
       "      <td>2017-01-10</td>\n",
       "      <td>459-375-9187</td>\n",
       "      <td>1950-09-30</td>\n",
       "      <td>M</td>\n",
       "      <td>1950</td>\n",
       "    </tr>\n",
       "    <tr>\n",
       "      <th>3</th>\n",
       "      <td>4</td>\n",
       "      <td>3</td>\n",
       "      <td>Rafael Estes</td>\n",
       "      <td>Ina@non.gov</td>\n",
       "      <td>2017-01-13</td>\n",
       "      <td>576-640-9226</td>\n",
       "      <td>1950-12-01</td>\n",
       "      <td>M</td>\n",
       "      <td>1950</td>\n",
       "    </tr>\n",
       "    <tr>\n",
       "      <th>4</th>\n",
       "      <td>5</td>\n",
       "      <td>3</td>\n",
       "      <td>Colin Lynn</td>\n",
       "      <td>Dale@Integer.com</td>\n",
       "      <td>2017-01-15</td>\n",
       "      <td>344-674-6569</td>\n",
       "      <td>1951-02-01</td>\n",
       "      <td>M</td>\n",
       "      <td>1951</td>\n",
       "    </tr>\n",
       "  </tbody>\n",
       "</table>\n",
       "</div>"
      ],
      "text/plain": [
       "   customer_id  home_store customer_first-name        customer_email  \\\n",
       "0            1           3           Kelly Key  Venus@adipiscing.edu   \n",
       "1            2           3     Clark Schroeder        Nora@fames.gov   \n",
       "2            3           3      Elvis Cardenas    Brianna@tellus.edu   \n",
       "3            4           3        Rafael Estes           Ina@non.gov   \n",
       "4            5           3          Colin Lynn      Dale@Integer.com   \n",
       "\n",
       "  customer_since loyalty_card_number   birthdate gender  birth_year  \n",
       "0     2017-01-04        908-424-2890  1950-05-29      M        1950  \n",
       "1     2017-01-07        032-732-6308  1950-07-30      M        1950  \n",
       "2     2017-01-10        459-375-9187  1950-09-30      M        1950  \n",
       "3     2017-01-13        576-640-9226  1950-12-01      M        1950  \n",
       "4     2017-01-15        344-674-6569  1951-02-01      M        1951  "
      ]
     },
     "execution_count": 10,
     "metadata": {},
     "output_type": "execute_result"
    }
   ],
   "source": [
    "#Visualizando a base de dados de clientes \n",
    "cl.head()"
   ]
  },
  {
   "cell_type": "code",
   "execution_count": 12,
   "metadata": {},
   "outputs": [
    {
     "name": "stdout",
     "output_type": "stream",
     "text": [
      "<class 'pandas.core.frame.DataFrame'>\n",
      "RangeIndex: 2246 entries, 0 to 2245\n",
      "Data columns (total 9 columns):\n",
      " #   Column               Non-Null Count  Dtype \n",
      "---  ------               --------------  ----- \n",
      " 0   customer_id          2246 non-null   int64 \n",
      " 1   home_store           2246 non-null   int64 \n",
      " 2   customer_first-name  2246 non-null   object\n",
      " 3   customer_email       2246 non-null   object\n",
      " 4   customer_since       2246 non-null   object\n",
      " 5   loyalty_card_number  2246 non-null   object\n",
      " 6   birthdate            2246 non-null   object\n",
      " 7   gender               2246 non-null   object\n",
      " 8   birth_year           2246 non-null   int64 \n",
      "dtypes: int64(3), object(6)\n",
      "memory usage: 158.0+ KB\n"
     ]
    }
   ],
   "source": [
    "#Verificando as informações gerais da tabela de clientes \n",
    "cl.info() \n"
   ]
  },
  {
   "cell_type": "code",
   "execution_count": 13,
   "metadata": {},
   "outputs": [
    {
     "name": "stdout",
     "output_type": "stream",
     "text": [
      "<class 'pandas.core.frame.DataFrame'>\n",
      "RangeIndex: 2246 entries, 0 to 2245\n",
      "Data columns (total 9 columns):\n",
      " #   Column                 Non-Null Count  Dtype \n",
      "---  ------                 --------------  ----- \n",
      " 0   id_cliente             2246 non-null   int64 \n",
      " 1   home_store             2246 non-null   int64 \n",
      " 2   primeiro_nome_cliente  2246 non-null   object\n",
      " 3   email_cliente          2246 non-null   object\n",
      " 4   cliente_desde          2246 non-null   object\n",
      " 5   ncartao_fidelidade     2246 non-null   object\n",
      " 6   data_aniversario       2246 non-null   object\n",
      " 7   genero                 2246 non-null   object\n",
      " 8   ano_nascimento         2246 non-null   int64 \n",
      "dtypes: int64(3), object(6)\n",
      "memory usage: 158.0+ KB\n"
     ]
    }
   ],
   "source": [
    "#Renomeando as colunas \n",
    "cl = cl.rename(columns={'customer_id':'id_cliente', \n",
    "                        'customer_first-name':'primeiro_nome_cliente', \n",
    "                        'customer_email':'email_cliente',\n",
    "                        'customer_since':'cliente_desde', \n",
    "                        'loyalty_card_number':'ncartao_fidelidade', \n",
    "                        'birthdate':'data_aniversario', \n",
    "                        'gender':'genero',\n",
    "                        'birth_year':'ano_nascimento'})"
   ]
  },
  {
   "cell_type": "code",
   "execution_count": 14,
   "metadata": {},
   "outputs": [
    {
     "name": "stdout",
     "output_type": "stream",
     "text": [
      "<class 'pandas.core.frame.DataFrame'>\n",
      "RangeIndex: 2246 entries, 0 to 2245\n",
      "Data columns (total 9 columns):\n",
      " #   Column                 Non-Null Count  Dtype         \n",
      "---  ------                 --------------  -----         \n",
      " 0   id_cliente             2246 non-null   int64         \n",
      " 1   home_store             2246 non-null   int64         \n",
      " 2   primeiro_nome_cliente  2246 non-null   object        \n",
      " 3   email_cliente          2246 non-null   object        \n",
      " 4   cliente_desde          2246 non-null   datetime64[ns]\n",
      " 5   ncartao_fidelidade     2246 non-null   object        \n",
      " 6   data_aniversario       2246 non-null   datetime64[ns]\n",
      " 7   genero                 2246 non-null   object        \n",
      " 8   ano_nascimento         2246 non-null   int64         \n",
      "dtypes: datetime64[ns](2), int64(3), object(4)\n",
      "memory usage: 158.0+ KB\n"
     ]
    }
   ],
   "source": [
    "#Transformando data_aniversario, cliente desde em datetime \n",
    "def transforme_datetime(df, columns):\n",
    "    for col in columns:\n",
    "        df[col] = pd.to_datetime(df[col])\n",
    "\n",
    "transforme_datetime(cl, ['data_aniversario', 'cliente_desde'])"
   ]
  },
  {
   "cell_type": "code",
   "execution_count": 18,
   "metadata": {},
   "outputs": [
    {
     "data": {
      "text/plain": [
       "False    2246\n",
       "dtype: int64"
      ]
     },
     "execution_count": 18,
     "metadata": {},
     "output_type": "execute_result"
    }
   ],
   "source": [
    "#Verificando se temos dados duplicados na tabela de cl\n",
    "cl.duplicated().value_counts()"
   ]
  },
  {
   "cell_type": "code",
   "execution_count": 23,
   "metadata": {},
   "outputs": [
    {
     "data": {
      "text/plain": [
       "F    977\n",
       "M    726\n",
       "N    543\n",
       "Name: genero, dtype: int64"
      ]
     },
     "execution_count": 23,
     "metadata": {},
     "output_type": "execute_result"
    }
   ],
   "source": [
    "#Verificando o genero dos clientes \n",
    "cl.genero.value_counts()"
   ]
  },
  {
   "cell_type": "code",
   "execution_count": 25,
   "metadata": {},
   "outputs": [
    {
     "name": "stdout",
     "output_type": "stream",
     "text": [
      "     id_cliente  home_store primeiro_nome_cliente         email_cliente  \\\n",
      "700         701           3       Donovan Trevino      Miranda@eget.com   \n",
      "701         702           3        Michael Kinney       Samson@diam.com   \n",
      "702         703           3         Melvin Valdez  Odette@fermentum.gov   \n",
      "703         704           3       Bernard Everett    Jelani@egestas.edu   \n",
      "704         705           3         Phillip Lopez    Paki@consequat.org   \n",
      "\n",
      "    cliente_desde ncartao_fidelidade data_aniversario genero  ano_nascimento  \n",
      "700    2017-01-10       127-289-9961       1950-09-30      N            1950  \n",
      "701    2017-01-18       721-800-7676       1951-04-04      N            1951  \n",
      "702    2017-01-26       916-386-4370       1951-10-08      N            1951  \n",
      "703    2017-02-04       711-278-7766       1952-04-11      N            1952  \n",
      "704    2017-02-12       644-583-4372       1952-10-15      N            1952  \n",
      "(543, 9)\n"
     ]
    }
   ],
   "source": [
    "generos_vazios = cl.loc[cl['genero'] == 'N'] \n",
    "print(generos_vazios.head())\n",
    "print(generos_vazios.shape)"
   ]
  },
  {
   "cell_type": "code",
   "execution_count": null,
   "metadata": {},
   "outputs": [],
   "source": []
  }
 ],
 "metadata": {
  "kernelspec": {
   "display_name": "base",
   "language": "python",
   "name": "python3"
  },
  "language_info": {
   "codemirror_mode": {
    "name": "ipython",
    "version": 3
   },
   "file_extension": ".py",
   "mimetype": "text/x-python",
   "name": "python",
   "nbconvert_exporter": "python",
   "pygments_lexer": "ipython3",
   "version": "3.10.9"
  },
  "orig_nbformat": 4
 },
 "nbformat": 4,
 "nbformat_minor": 2
}
